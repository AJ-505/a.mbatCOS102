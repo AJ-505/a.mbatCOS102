{
 "cells": [
  {
   "cell_type": "code",
   "execution_count": 1,
   "metadata": {},
   "outputs": [
    {
     "name": "stdout",
     "output_type": "stream",
     "text": [
      "The energy equivalent to 200.0 kg of mass is 119916983200.0 joules.\n"
     ]
    }
   ],
   "source": [
    "#Input from user\n",
    "m = float(input(\"Enter mass in kilogram: \"))\n",
    "\n",
    "#Constant value for the speed of light in m/s\n",
    "c = 299792458\n",
    "\n",
    "#Calculating energy using Einstein's equation\n",
    "energy = m * c * 2\n",
    "\n",
    "#Displaying the result\n",
    "print(f\"The energy equivalent to {m} kg of mass is {energy} joules.\")"
   ]
  }
 ],
 "metadata": {
  "kernelspec": {
   "display_name": ".venv",
   "language": "python",
   "name": "python3"
  },
  "language_info": {
   "codemirror_mode": {
    "name": "ipython",
    "version": 3
   },
   "file_extension": ".py",
   "mimetype": "text/x-python",
   "name": "python",
   "nbconvert_exporter": "python",
   "pygments_lexer": "ipython3",
   "version": "3.13.1"
  }
 },
 "nbformat": 4,
 "nbformat_minor": 2
}
