{
 "cells": [
  {
   "cell_type": "code",
   "execution_count": 2,
   "metadata": {},
   "outputs": [
    {
     "name": "stdout",
     "output_type": "stream",
     "text": [
      "Welcome to the staff Annual Tax Revenue (ATR) calculator!\n",
      "Your Annual Tax Revenue is 4480000.\n",
      "Thank you for using this program.\n"
     ]
    }
   ],
   "source": [
    "print(\"Welcome to the staff Annual Tax Revenue (ATR) calculator!\")\n",
    "\n",
    "work_experience = int(input(\"How many years of work experience do you have? \"))\n",
    "age = int(input(\"What is your age? \"))\n",
    "atr = 0\n",
    "if work_experience > 25 and age >= 55:\n",
    "  atr = 5_600_000\n",
    "elif work_experience > 20 and age >= 45:\n",
    "  atr = 4_480_000\n",
    "elif work_experience >= 10 and age >= 35:\n",
    "  atr = 1_500_000\n",
    "else:\n",
    "  atr = 550_000\n",
    "  \n",
    "print(f\"Your Annual Tax Revenue is {atr}.\")\n",
    "print(\"Thank you for using this program.\")"
   ]
  }
 ],
 "metadata": {
  "kernelspec": {
   "display_name": ".venv",
   "language": "python",
   "name": "python3"
  },
  "language_info": {
   "codemirror_mode": {
    "name": "ipython",
    "version": 3
   },
   "file_extension": ".py",
   "mimetype": "text/x-python",
   "name": "python",
   "nbconvert_exporter": "python",
   "pygments_lexer": "ipython3",
   "version": "3.13.1"
  }
 },
 "nbformat": 4,
 "nbformat_minor": 2
}
