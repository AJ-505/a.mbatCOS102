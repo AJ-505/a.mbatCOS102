{
 "cells": [
  {
   "cell_type": "code",
   "execution_count": 19,
   "metadata": {},
   "outputs": [
    {
     "name": "stdout",
     "output_type": "stream",
     "text": [
      "  Name   |  Age | Height | Score\n",
      " Evelyn      17     5.5     80\n",
      " Jessica     16     6.0     85\n",
      " Somto       17     5.4     70\n",
      " Edith       18     5.9     60\n",
      " Liza        16     5.6     76\n",
      " Madonna     18     5.5     66\n",
      " Waje        17     6.1     87\n",
      " Tola        20     6.0     95\n",
      " Aisha       19     5.7     50\n",
      " Latifa      17     5.5     49\n",
      " Chinedu     19     5.7     74\n",
      " Liam        16     5.9     87\n",
      " Wale        18     5.8     75\n",
      " Gbenga      17     6.1     68\n",
      " Abiola      20     5.9     66\n",
      " Kola        19     5.5     78\n",
      " Kunle       16     6.1     87\n",
      " George      18     5.4     98\n",
      " Thomas      17     5.8     54\n",
      " Wesley      19     5.7     60\n"
     ]
    }
   ],
   "source": [
    "girl_ages = {\"Evelyn\": 17, \"Jessica\": 16, \"Somto\": 17, \"Edith\": 18, \"Liza\": 16, \"Madonna\": 18, \"Waje\": 17, \"Tola\": 20, \"Aisha\": 19, \"Latifa\": 17}\n",
    "girl_heights = {\"Evelyn\": 5.5, \"Jessica\": 6.0, \"Somto\": 5.4, \"Edith\": 5.9, \"Liza\": 5.6, \"Madonna\": 5.5, \"Waje\": 6.1, \"Tola\": 6.0, \"Aisha\": 5.7, \"Latifa\": 5.5}\n",
    "girl_scores = {\"Evelyn\": 80, \"Jessica\": 85, \"Somto\": 70, \"Edith\": 60, \"Liza\": 76, \"Madonna\": 66, \"Waje\": 87, \"Tola\": 95, \"Aisha\": 50, \"Latifa\": 49}\n",
    "\n",
    "boy_ages = {\"Chinedu\": 19, \"Liam\": 16, \"Wale\": 18, \"Gbenga\": 17, \"Abiola\": 20, \"Kola\": 19, \"Kunle\": 16, \"George\": 18, \"Thomas\": 17, \"Wesley\": 19}\n",
    "boy_heights = {\"Chinedu\": 5.7, \"Liam\": 5.9, \"Wale\": 5.8, \"Gbenga\": 6.1, \"Abiola\": 5.9, \"Kola\": 5.5, \"Kunle\": 6.1, \"George\": 5.4, \"Thomas\": 5.8, \"Wesley\": 5.7}\n",
    "boy_scores = {\"Chinedu\": 74, \"Liam\": 87, \"Wale\": 75, \"Gbenga\": 68, \"Abiola\": 66, \"Kola\": 78, \"Kunle\": 87, \"George\": 98, \"Thomas\": 54, \"Wesley\": 60}\n",
    "\n",
    "print(\"  Name   |  Age | Height | Score\")\n",
    "\n",
    "\"\"\"\n",
    "Print the girls' information in tabular form\n",
    "But to make the table uniform, we have to calulate the number of spaces\n",
    "that each cell in the first row would need to have\n",
    "in relation to the width of the associated column. We have to do this for only\n",
    "this column and not others because the length of a student's name is not fixed.\n",
    "\"\"\"\n",
    "for girl in girl_ages.keys():\n",
    "  spaces = \" \" * (12 - len(girl))\n",
    "  print(f\" {girl}{spaces}{girl_ages[girl]}     {girl_heights[girl]}     {girl_scores[girl]}\")\n",
    "\n",
    "#Print the boys' information in tabular form\n",
    "for boy in boy_ages.keys():\n",
    "  spaces = \" \" * (12 - len(boy))\n",
    "  print(f\" {boy}{spaces}{boy_ages[boy]}     {boy_heights[boy]}     {boy_scores[boy]}\")"
   ]
  }
 ],
 "metadata": {
  "kernelspec": {
   "display_name": ".venv",
   "language": "python",
   "name": "python3"
  },
  "language_info": {
   "codemirror_mode": {
    "name": "ipython",
    "version": 3
   },
   "file_extension": ".py",
   "mimetype": "text/x-python",
   "name": "python",
   "nbconvert_exporter": "python",
   "pygments_lexer": "ipython3",
   "version": "3.13.1"
  }
 },
 "nbformat": 4,
 "nbformat_minor": 2
}
